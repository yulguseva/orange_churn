{
 "cells": [
  {
   "cell_type": "markdown",
   "metadata": {},
   "source": [
    "# Experiments with the baseline model\n"
   ]
  },
  {
   "cell_type": "markdown",
   "metadata": {},
   "source": [
    "Data from KDD CUP 2009 provided by telecomunication corporation Orange S.A. Data contains 50000 examples and 230 features, the first 190 features are numerical and the last 40 are categorical. The task is to estimate the churn probability of customers (classification problem on unbalanced data). The performance metric is AUC ROC. "
   ]
  },
  {
   "cell_type": "markdown",
   "metadata": {},
   "source": [
    "The public data was used in Kaggle competition https://www.kaggle.com/c/telecom-clients-churn-prediction/data. The 50000 examples are splitted into train data (40000 examples) and test data (10000 examples). Competitors don't have access to the test labels so the test data is not supposed to be used in model fitting, but in performance evaluation. "
   ]
  },
  {
   "cell_type": "markdown",
   "metadata": {},
   "source": [
    "Previosly several baseline models (logistic regression, random forest, gradient boosting and naive bayes, see \"Baseline.ipynb\") were tested on a simply preprocessed data. The best result (AUC ROC = 0.727723) was showed by gradient boosting classifier. We will try to improve the result by using various preprocessing techniques and optimizing model parameters. "
   ]
  },
  {
   "cell_type": "markdown",
   "metadata": {},
   "source": [
    "### Data preprocessing"
   ]
  },
  {
   "cell_type": "markdown",
   "metadata": {},
   "source": [
    "This preprocessing has the best AUC ROC achieved on the baseline gradient boosting."
   ]
  },
  {
   "cell_type": "code",
   "execution_count": 2,
   "metadata": {
    "collapsed": false
   },
   "outputs": [],
   "source": [
    "import pandas as pd\n",
    "import numpy as np\n",
    "\n",
    "from sklearn.model_selection import StratifiedKFold, learning_curve, cross_val_score, train_test_split, GridSearchCV\n",
    "from sklearn.ensemble import GradientBoostingClassifier\n",
    "from sklearn import metrics\n",
    "from sklearn.preprocessing import StandardScaler"
   ]
  },
  {
   "cell_type": "code",
   "execution_count": 3,
   "metadata": {
    "collapsed": false
   },
   "outputs": [
    {
     "name": "stdout",
     "output_type": "stream",
     "text": [
      "(40000, 231) (10000, 230)\n"
     ]
    }
   ],
   "source": [
    "data = pd.read_csv(\"orange_small_churn_train_data.csv\")\n",
    "data_test = pd.read_csv(\"orange_small_churn_test_data.csv\")\n",
    "data.drop(\"ID\", axis = 1, inplace = True)\n",
    "data_test.drop(\"ID\", axis = 1, inplace = True)\n",
    "print data.shape, data_test.shape\n",
    "num_features = list(data.columns[:190])\n",
    "cat_features = list(data.columns[190:230])"
   ]
  },
  {
   "cell_type": "code",
   "execution_count": 4,
   "metadata": {
    "collapsed": false
   },
   "outputs": [],
   "source": [
    "def process_data(data, num_features, cat_features, data_test=None):\n",
    "    delete_empty_features(data, data_test = data_test)\n",
    "    process_num_features(data, num_features, data_test = data_test)\n",
    "    process_cat_features(data, cat_features, data_test = data_test)\n",
    "    #return data, data_test\n",
    "    \n",
    "\n",
    "def get_empty_features(data):\n",
    "    empty_features = []\n",
    "    c = 0.3\n",
    "    for feat in data.columns:\n",
    "        nulls = data[feat].isnull().value_counts()\n",
    "        try:\n",
    "            not_nulls = nulls[False]\n",
    "            if not_nulls < c*40000:\n",
    "                empty_features.append(feat)\n",
    "        except:    \n",
    "            empty_features.append(feat)\n",
    "    print \"number of empty features is\", len(empty_features)\n",
    "    return empty_features\n",
    "\n",
    "def delete_empty_features(data, data_test = None):\n",
    "    #delete features with >70% of missed values.\n",
    "    empty_features = get_empty_features(data)\n",
    "    for feat in empty_features:\n",
    "        if feat in num_features:\n",
    "            num_features.remove(feat)\n",
    "        else:\n",
    "            cat_features.remove(feat)\n",
    "        data.drop(feat, axis=1, inplace=True)\n",
    "        if data_test is not None:\n",
    "            data_test.drop(feat, axis=1, inplace=True)\n",
    "    #return data, data_test\n",
    "\n",
    "\n",
    "def process_cat_features(data, cat_features, data_test = None):\n",
    "    #code values with their frequencies     \n",
    "    if data_test is not None:\n",
    "        data_cat_all = data[cat_features].append(data_test[cat_features])\n",
    "        for feat in data_cat_all.columns:\n",
    "            data_cat_all[feat] = data_cat_all[feat].map(data_cat_all.groupby(feat).size())\n",
    "        data[cat_features] = data_cat_all.loc[:39999,:]\n",
    "        data_test[cat_features] = data_cat_all.loc[39999:,:]\n",
    "    else:\n",
    "        data_cat_all = data[cat_features]\n",
    "        for feat in data_cat_all.columns:\n",
    "            data_cat_all[feat] = data_cat_all[feat].map(data_cat_all.groupby(feat).size())\n",
    "        data[cat_features] = data_cat_all\n",
    "        \n",
    "    #fill missing values with zeros\n",
    "    data.fillna(0., inplace=True)\n",
    "    if data_test is not None:\n",
    "        data_test.fillna(0., inplace=True)\n",
    "    #return data, data_test\n",
    "\n",
    "def process_num_features(data, cat_features, data_test = None):\n",
    "    #fill missing values with max+1\n",
    "    maxs = data.max(axis = 0)\n",
    "    for i,feat in enumerate(num_features):\n",
    "        fill_value = maxs[i]+1\n",
    "        data.fillna({feat: fill_value}, inplace=True)\n",
    "        if data_test is not None:\n",
    "            data_test.fillna({feat: fill_value}, inplace=True)\n",
    "    #return data, data_test\n",
    "\n",
    "def scale(data, labels = False, data_test = None):\n",
    "    scaler = StandardScaler()\n",
    "    if labels:\n",
    "        df = data.drop(labels = ['labels'], axis = 1)\n",
    "        data_scaled = scaler.fit_transform(df)\n",
    "        data_scaled = pd.DataFrame(data_scaled, index = df.index, columns = df.columns)\n",
    "        data_scaled['labels'] = data['labels']     \n",
    "    else: \n",
    "        data_scaled = scaler.fit_transform(data)\n",
    "        data_scaled = pd.DataFrame(data_scaled, index = data.index, columns = data.columns)\n",
    "        \n",
    "    if data_test is not None:\n",
    "        data_test_scaled = scaler.transform(data_test)\n",
    "        data_test_scaled = pd.DataFrame(data_test_scaled, index = data_test.index, columns = data_test.columns)\n",
    "    else:\n",
    "        data_test_scaled = None\n",
    "    return data_scaled, data_test_scaled"
   ]
  },
  {
   "cell_type": "code",
   "execution_count": 5,
   "metadata": {
    "collapsed": false
   },
   "outputs": [
    {
     "name": "stdout",
     "output_type": "stream",
     "text": [
      "number of empty features is 156\n",
      "(40000, 75)\n",
      "(10000, 74)\n"
     ]
    },
    {
     "data": {
      "text/html": [
       "<div>\n",
       "<style>\n",
       "    .dataframe thead tr:only-child th {\n",
       "        text-align: right;\n",
       "    }\n",
       "\n",
       "    .dataframe thead th {\n",
       "        text-align: left;\n",
       "    }\n",
       "\n",
       "    .dataframe tbody tr th {\n",
       "        vertical-align: top;\n",
       "    }\n",
       "</style>\n",
       "<table border=\"1\" class=\"dataframe\">\n",
       "  <thead>\n",
       "    <tr style=\"text-align: right;\">\n",
       "      <th></th>\n",
       "      <th>Var6</th>\n",
       "      <th>Var7</th>\n",
       "      <th>Var13</th>\n",
       "      <th>Var21</th>\n",
       "      <th>Var22</th>\n",
       "      <th>Var24</th>\n",
       "      <th>Var25</th>\n",
       "      <th>Var28</th>\n",
       "      <th>Var35</th>\n",
       "      <th>Var38</th>\n",
       "      <th>...</th>\n",
       "      <th>Var220</th>\n",
       "      <th>Var221</th>\n",
       "      <th>Var222</th>\n",
       "      <th>Var223</th>\n",
       "      <th>Var225</th>\n",
       "      <th>Var226</th>\n",
       "      <th>Var227</th>\n",
       "      <th>Var228</th>\n",
       "      <th>Var229</th>\n",
       "      <th>labels</th>\n",
       "    </tr>\n",
       "  </thead>\n",
       "  <tbody>\n",
       "    <tr>\n",
       "      <th>0</th>\n",
       "      <td>3052.0</td>\n",
       "      <td>36.0</td>\n",
       "      <td>97365.0</td>\n",
       "      <td>480.0</td>\n",
       "      <td>600.0</td>\n",
       "      <td>20.0</td>\n",
       "      <td>480.0</td>\n",
       "      <td>200.00</td>\n",
       "      <td>0.0</td>\n",
       "      <td>82752.0</td>\n",
       "      <td>...</td>\n",
       "      <td>3</td>\n",
       "      <td>1662</td>\n",
       "      <td>3</td>\n",
       "      <td>36608.0</td>\n",
       "      <td>0.0</td>\n",
       "      <td>2614</td>\n",
       "      <td>2342</td>\n",
       "      <td>1477</td>\n",
       "      <td>0.0</td>\n",
       "      <td>-1</td>\n",
       "    </tr>\n",
       "    <tr>\n",
       "      <th>1</th>\n",
       "      <td>1813.0</td>\n",
       "      <td>7.0</td>\n",
       "      <td>636.0</td>\n",
       "      <td>212.0</td>\n",
       "      <td>265.0</td>\n",
       "      <td>2.0</td>\n",
       "      <td>128.0</td>\n",
       "      <td>166.56</td>\n",
       "      <td>0.0</td>\n",
       "      <td>2706120.0</td>\n",
       "      <td>...</td>\n",
       "      <td>1</td>\n",
       "      <td>37009</td>\n",
       "      <td>1</td>\n",
       "      <td>36608.0</td>\n",
       "      <td>11072.0</td>\n",
       "      <td>2108</td>\n",
       "      <td>35156</td>\n",
       "      <td>4354</td>\n",
       "      <td>9804.0</td>\n",
       "      <td>-1</td>\n",
       "    </tr>\n",
       "    <tr>\n",
       "      <th>2</th>\n",
       "      <td>1953.0</td>\n",
       "      <td>7.0</td>\n",
       "      <td>448.0</td>\n",
       "      <td>176.0</td>\n",
       "      <td>220.0</td>\n",
       "      <td>0.0</td>\n",
       "      <td>72.0</td>\n",
       "      <td>311.76</td>\n",
       "      <td>0.0</td>\n",
       "      <td>4698780.0</td>\n",
       "      <td>...</td>\n",
       "      <td>4441</td>\n",
       "      <td>6199</td>\n",
       "      <td>4441</td>\n",
       "      <td>36608.0</td>\n",
       "      <td>0.0</td>\n",
       "      <td>8031</td>\n",
       "      <td>6153</td>\n",
       "      <td>2672</td>\n",
       "      <td>9804.0</td>\n",
       "      <td>-1</td>\n",
       "    </tr>\n",
       "    <tr>\n",
       "      <th>3</th>\n",
       "      <td>1533.0</td>\n",
       "      <td>7.0</td>\n",
       "      <td>4.0</td>\n",
       "      <td>332.0</td>\n",
       "      <td>415.0</td>\n",
       "      <td>0.0</td>\n",
       "      <td>144.0</td>\n",
       "      <td>220.08</td>\n",
       "      <td>5.0</td>\n",
       "      <td>864384.0</td>\n",
       "      <td>...</td>\n",
       "      <td>34</td>\n",
       "      <td>37009</td>\n",
       "      <td>34</td>\n",
       "      <td>36608.0</td>\n",
       "      <td>0.0</td>\n",
       "      <td>2108</td>\n",
       "      <td>35156</td>\n",
       "      <td>32703</td>\n",
       "      <td>0.0</td>\n",
       "      <td>1</td>\n",
       "    </tr>\n",
       "    <tr>\n",
       "      <th>4</th>\n",
       "      <td>686.0</td>\n",
       "      <td>7.0</td>\n",
       "      <td>0.0</td>\n",
       "      <td>160.0</td>\n",
       "      <td>200.0</td>\n",
       "      <td>2.0</td>\n",
       "      <td>48.0</td>\n",
       "      <td>278.00</td>\n",
       "      <td>0.0</td>\n",
       "      <td>4364880.0</td>\n",
       "      <td>...</td>\n",
       "      <td>2</td>\n",
       "      <td>37009</td>\n",
       "      <td>2</td>\n",
       "      <td>36608.0</td>\n",
       "      <td>0.0</td>\n",
       "      <td>4176</td>\n",
       "      <td>35156</td>\n",
       "      <td>32703</td>\n",
       "      <td>0.0</td>\n",
       "      <td>-1</td>\n",
       "    </tr>\n",
       "  </tbody>\n",
       "</table>\n",
       "<p>5 rows × 75 columns</p>\n",
       "</div>"
      ],
      "text/plain": [
       "     Var6  Var7    Var13  Var21  Var22  Var24  Var25   Var28  Var35  \\\n",
       "0  3052.0  36.0  97365.0  480.0  600.0   20.0  480.0  200.00    0.0   \n",
       "1  1813.0   7.0    636.0  212.0  265.0    2.0  128.0  166.56    0.0   \n",
       "2  1953.0   7.0    448.0  176.0  220.0    0.0   72.0  311.76    0.0   \n",
       "3  1533.0   7.0      4.0  332.0  415.0    0.0  144.0  220.08    5.0   \n",
       "4   686.0   7.0      0.0  160.0  200.0    2.0   48.0  278.00    0.0   \n",
       "\n",
       "       Var38   ...    Var220  Var221  Var222   Var223   Var225  Var226  \\\n",
       "0    82752.0   ...         3    1662       3  36608.0      0.0    2614   \n",
       "1  2706120.0   ...         1   37009       1  36608.0  11072.0    2108   \n",
       "2  4698780.0   ...      4441    6199    4441  36608.0      0.0    8031   \n",
       "3   864384.0   ...        34   37009      34  36608.0      0.0    2108   \n",
       "4  4364880.0   ...         2   37009       2  36608.0      0.0    4176   \n",
       "\n",
       "   Var227  Var228  Var229  labels  \n",
       "0    2342    1477     0.0      -1  \n",
       "1   35156    4354  9804.0      -1  \n",
       "2    6153    2672  9804.0      -1  \n",
       "3   35156   32703     0.0       1  \n",
       "4   35156   32703     0.0      -1  \n",
       "\n",
       "[5 rows x 75 columns]"
      ]
     },
     "execution_count": 5,
     "metadata": {},
     "output_type": "execute_result"
    }
   ],
   "source": [
    "process_data(data, num_features, cat_features, data_test=data_test)\n",
    "print data.shape\n",
    "print data_test.shape\n",
    "data.head()"
   ]
  },
  {
   "cell_type": "markdown",
   "metadata": {},
   "source": [
    "## Model construction"
   ]
  },
  {
   "cell_type": "markdown",
   "metadata": {},
   "source": [
    "### Sample size"
   ]
  },
  {
   "cell_type": "markdown",
   "metadata": {},
   "source": [
    "Lets estimate how many samples are needed to provide a valuable model. It is possible that at some point increase in sample size does not affect the quality of the model. Learning curves are used for better visiability."
   ]
  },
  {
   "cell_type": "code",
   "execution_count": 6,
   "metadata": {
    "collapsed": false
   },
   "outputs": [],
   "source": [
    "clf = GradientBoostingClassifier(random_state = 123)\n",
    "X = data.drop(\"labels\", axis = 1)\n",
    "y = data['labels']"
   ]
  },
  {
   "cell_type": "code",
   "execution_count": 7,
   "metadata": {
    "collapsed": false
   },
   "outputs": [],
   "source": [
    "import matplotlib.pyplot as plt\n",
    "from sklearn.model_selection import learning_curve\n",
    "\n",
    "def plot_learning_curve(estimator, title, X, y, ylim=None, cv=None, n_jobs=1,\n",
    "                        train_sizes=np.linspace(.1, 1.0, 5), random_state = 1):\n",
    "    \n",
    "    plt.figure()\n",
    "    plt.title(title)\n",
    "    if ylim is not None:\n",
    "        plt.ylim(*ylim)\n",
    "    plt.xlabel(\"Training examples\")\n",
    "    plt.ylabel(\"Score\")\n",
    "    train_sizes, train_scores, test_scores = learning_curve( \n",
    "        estimator, X, y, cv=cv, n_jobs=n_jobs, train_sizes=train_sizes, random_state = random_state)\n",
    "    train_scores_mean = np.mean(train_scores, axis=1)\n",
    "    train_scores_std = np.std(train_scores, axis=1)\n",
    "    test_scores_mean = np.mean(test_scores, axis=1)\n",
    "    test_scores_std = np.std(test_scores, axis=1)\n",
    "    plt.grid()\n",
    "\n",
    "    plt.fill_between(train_sizes, train_scores_mean - train_scores_std,\n",
    "                     train_scores_mean + train_scores_std, alpha=0.1,\n",
    "                     color=\"r\")\n",
    "    plt.fill_between(train_sizes, test_scores_mean - test_scores_std,\n",
    "                     test_scores_mean + test_scores_std, alpha=0.1, color=\"g\")\n",
    "    plt.plot(train_sizes, train_scores_mean, 'o-', color=\"r\",\n",
    "             label=\"Training score\")\n",
    "    plt.plot(train_sizes, test_scores_mean, 'o-', color=\"g\",\n",
    "             label=\"Cross-validation score\")\n",
    "\n",
    "    plt.legend(loc=\"best\")\n",
    "    return plt"
   ]
  },
  {
   "cell_type": "code",
   "execution_count": 19,
   "metadata": {
    "collapsed": false
   },
   "outputs": [
    {
     "data": {
      "image/png": "[encoded data removed]",
      "text/plain": [
       "<matplotlib.figure.Figure at 0x11bdb05d0>"
      ]
     },
     "metadata": {},
     "output_type": "display_data"
    }
   ],
   "source": [
    "train_sizes = np.arange(0.1,1.1,0.1)\n",
    "plot_learning_curve(clf, 'GBC', X,y, cv = 5, train_sizes = train_sizes, random_state = 123)\n",
    "plt.show()"
   ]
  },
  {
   "cell_type": "markdown",
   "metadata": {},
   "source": [
    "AUC ROC increases with the sample size. We should use at least 80% of the train sample for better results. We will use 32000 examples (80%) as a train set and remaining 8000 examples as a hold-out dataset to test the model performance and control overfitting before submitting its results on the test data (10000 examples)."
   ]
  },
  {
   "cell_type": "code",
   "execution_count": 12,
   "metadata": {
    "collapsed": false
   },
   "outputs": [
    {
     "data": {
      "text/plain": [
       "0.74219734799509662"
      ]
     },
     "execution_count": 12,
     "metadata": {},
     "output_type": "execute_result"
    }
   ],
   "source": [
    "X_train, X_test, y_train, y_test = train_test_split(X, y, test_size=0.2, random_state=123)\n",
    "best_roc_auc = cross_val_score(clf, X_train, y_train, cv=5, scoring='roc_auc')\n",
    "best_roc_auc = np.mean(best_roc_auc)"
   ]
  },
  {
   "cell_type": "markdown",
   "metadata": {},
   "source": [
    "### Weighting data"
   ]
  },
  {
   "cell_type": "markdown",
   "metadata": {},
   "source": [
    "Data is unbalanced: only 7% of samples belong to churn class. Lets investigate if weighting can improve the model."
   ]
  },
  {
   "cell_type": "code",
   "execution_count": 58,
   "metadata": {
    "collapsed": false
   },
   "outputs": [
    {
     "data": {
      "image/png": "[encoded data removed]",
      "text/plain": [
       "<matplotlib.figure.Figure at 0x11c9a7e50>"
      ]
     },
     "metadata": {},
     "output_type": "display_data"
    },
    {
     "name": "stdout",
     "output_type": "stream",
     "text": [
      "ROC AUC scores [0.73932605878047364, 0.73718224113055419, 0.73494311900629195, 0.73546740021973345, 0.73571024540155916, 0.73604860826684226, 0.73242789107828588, 0.73174306340135487, 0.73212513413518443, 0.73389285090649059, 0.7310819019361734, 0.73672789250678705, 0.73090834971667695, 0.72924361294784834]\n"
     ]
    }
   ],
   "source": [
    "weights_sequence = range(1, 15, 1)\n",
    "precision, recall, roc_auc = [], [], []\n",
    "for weight in weights_sequence:\n",
    "    sw = [1 if i == -1 else weight for i in y_train]\n",
    "    clf = GradientBoostingClassifier(random_state = 123)\n",
    "    clf.fit(X_train, y_train, sample_weight = sw)\n",
    "    pred = clf.predict(X_test)\n",
    "    values = clf.predict_proba(X_test)[:,1]\n",
    "    \n",
    "    roc_auc.append(metrics.roc_auc_score(y_test, values))\n",
    "    recall.append(metrics.recall_score(y_test, pred))\n",
    "    precision.append(metrics.precision_score(y_test, pred))\n",
    "\n",
    "    \n",
    "plt.figure()\n",
    "plt.title(\"Scores\")\n",
    "plt.xlabel(\"Weight\")\n",
    "plt.ylabel(\"Value\")\n",
    "plt.plot(weights_sequence, roc_auc, 'o-', color=\"r\", label=\"ROC AUC\")\n",
    "plt.plot(weights_sequence, recall, 'o-', color=\"g\", label=\"Recall\")\n",
    "plt.plot(weights_sequence, precision, 'o-', color=\"b\", label=\"Precision\")\n",
    "plt.legend(loc=\"best\")\n",
    "plt.show()\n",
    "print \"ROC AUC scores\", roc_auc"
   ]
  },
  {
   "cell_type": "markdown",
   "metadata": {},
   "source": [
    "As expected Recall increases with the churn class weight, but at the same time Precision decreases making ROC AUC almost the same. Since the main metric is ROC AUC, for the reason of simplicity we can fit model without weighting.   However from the business perspective it might be better to find maximum possible number of churn users (max Recall) while having Precision on an adequate level. This seems to be achieved for weights [12,1].  "
   ]
  },
  {
   "cell_type": "markdown",
   "metadata": {},
   "source": [
    "### Numeric features processing"
   ]
  },
  {
   "cell_type": "markdown",
   "metadata": {},
   "source": [
    "#### Missing values"
   ]
  },
  {
   "cell_type": "markdown",
   "metadata": {
    "collapsed": true
   },
   "source": [
    "There were several approaches to deal with missed values in numeric features. Missed values in numeric features were filled with:\n",
    "- zeros\n",
    "- means\n",
    "- medians\n",
    "- mins - 1 (so that trees could sort missed values more effective)\n",
    "- maxs + 1 (same)\n",
    "\n",
    "There were not any large differences, but the best approach is to fill with maxs + 1 (1.0% AUC ROC improvement)."
   ]
  },
  {
   "cell_type": "code",
   "execution_count": 164,
   "metadata": {
    "collapsed": false
   },
   "outputs": [
    {
     "name": "stdout",
     "output_type": "stream",
     "text": [
      "for zeros filling roc_auc is 0.739654\n",
      "for means filling roc_auc is 0.742015\n",
      "for meds filling roc_auc is 0.735495\n",
      "for min - 1 filling roc_auc is 0.737458\n",
      "for max + 1 filling roc_auc is 0.742197\n"
     ]
    }
   ],
   "source": [
    "data3 = pd.read_csv(\"orange_small_churn_train_data.csv\")\n",
    "data3.drop(\"ID\", axis = 1, inplace = True)\n",
    "for feat in empty_features:\n",
    "    data3.drop(feat,axis=1, inplace=True)\n",
    "    \n",
    "mins = data3.min(axis = 0)\n",
    "maxs = data3.max(axis = 0)\n",
    "data30 = data3.fillna(0)\n",
    "\n",
    "for i, feat in enumerate(num_features):\n",
    "    m1 = np.mean(data3[feat].dropna())\n",
    "    m2 = np.median(data3[feat].dropna())\n",
    "    m3 = mins[i]-1\n",
    "    m4 = maxs[i]+1\n",
    "    m_list = [m1, m2, m3, m4]\n",
    "    #print feat, m_list\n",
    "    if i == 0:\n",
    "        data31 = data3.fillna({feat: m1})\n",
    "        data32 = data3.fillna({feat: m2})\n",
    "        data33 = data3.fillna({feat: m3})\n",
    "        data34 = data3.fillna({feat: m4})\n",
    "        data_list = [data31, data32, data33, data34]\n",
    "    else: \n",
    "        for d, m in zip(data_list, m_list):\n",
    "            d = d.fillna({feat:m}, inplace = True)\n",
    "            \n",
    "data_list = [data30, data31, data32, data33, data34]\n",
    "descr_list = ['zeros', 'means', 'meds', 'min - 1', 'max + 1']\n",
    "roc_auc_list = []\n",
    "for d, descr in zip(data_list, descr_list):\n",
    "    X = d[num_features].join(data[cat_features])\n",
    "    y = d['labels']\n",
    "    X_train, X_test, y_train, y_test = train_test_split(\n",
    "        X, y, test_size=0.2, random_state=123)\n",
    "    ra = cross_val_score(clf, X_train, y_train, cv=5, scoring='roc_auc')\n",
    "    roc_auc_list.append(ra)\n",
    "    print 'for %s filling roc_auc is %f'%(descr, np.mean(ra))"
   ]
  },
  {
   "cell_type": "markdown",
   "metadata": {},
   "source": [
    "#### Scaling"
   ]
  },
  {
   "cell_type": "markdown",
   "metadata": {
    "collapsed": true
   },
   "source": [
    "The baseline model is GradientBoostingClassifier which does not require data scaling. However many other models, such as regressions, should be used along with data scaling (normalization, taking logarithm etc), otherwise they fail to find the optimum and provide adequate results. Scaling here uses sklearn.preprocessing.StandardScaler."
   ]
  },
  {
   "cell_type": "code",
   "execution_count": 14,
   "metadata": {
    "collapsed": false
   },
   "outputs": [
    {
     "name": "stdout",
     "output_type": "stream",
     "text": [
      "ROC AUC with scaling is 0.742197347995\n",
      "ROC AUC without scaling is 0.742197347995\n"
     ]
    }
   ],
   "source": [
    "data_scaled, data_test_scaled = scale(data, labels = True, data_test = data_test)\n",
    "X_scaled = data_scaled.drop(\"labels\", axis = 1)\n",
    "y = data_scaled['labels']\n",
    "X_train_scaled, X_test_scaled, y_train_scaled, y_test_scaled = train_test_split(\n",
    "        X, y, test_size=0.2, random_state=123)\n",
    "ra_scaled = cross_val_score(clf, X_train_scaled, y_train_scaled, cv=5, scoring='roc_auc')\n",
    "\n",
    "print 'ROC AUC with scaling is' , np.mean(ra_scaled)\n",
    "print 'ROC AUC without scaling is', best_roc_auc"
   ]
  },
  {
   "cell_type": "markdown",
   "metadata": {},
   "source": [
    "### Categorical features processing"
   ]
  },
  {
   "cell_type": "markdown",
   "metadata": {
    "collapsed": true
   },
   "source": [
    "Data contains 40 categorical features that are very differenct: from just 2 values to over 17000 values. All values are anonymized. There were several approaches of processing categorical features:\n",
    "\n",
    "- hashing (parameter: hashing space)\n",
    "- OneHotEncoding (for features with <400 values)\n",
    "- replace value with its frequency in traing set \n",
    "\n",
    "Best result was showed by the last option with overall AUC ROC improvement by 0.5% compared to hashing with hash space of 400. "
   ]
  },
  {
   "cell_type": "code",
   "execution_count": 62,
   "metadata": {
    "collapsed": true
   },
   "outputs": [],
   "source": [
    "data4 = pd.read_csv(\"orange_small_churn_train_data.csv\")\n",
    "data4.drop(\"ID\", axis = 1, inplace = True)\n",
    "print data4.shape\n",
    "for feat in empty_features:\n",
    "    data4.drop(feat,axis=1, inplace=True)\n",
    "\n",
    "data4[num_features] = data[num_features]\n",
    "data4.fillna(0,inplace = True)"
   ]
  },
  {
   "cell_type": "code",
   "execution_count": 167,
   "metadata": {
    "collapsed": false
   },
   "outputs": [
    {
     "name": "stdout",
     "output_type": "stream",
     "text": [
      "ROC AUC for hashed categorical features is 0.738531609236\n",
      "ROC AUC for frequency coding of categorical features is 0.742197\n"
     ]
    }
   ],
   "source": [
    "from sklearn.feature_extraction import FeatureHasher\n",
    "hash_space = 400\n",
    "\n",
    "cat_x_hashed = pd.DataFrame()\n",
    "data_set = [data4]\n",
    "hash_set = [cat_x_hashed]\n",
    "\n",
    "for feat in cat_features:\n",
    "    for d, h in zip(data_set, hash_set):\n",
    "        feat_hashed = [hash(x) % hash_space for x in d[feat]]\n",
    "        h[str(feat)] = pd.Series(feat_hashed)\n",
    "data4[cat_features] = cat_x_hashed\n",
    "\n",
    "clf = GradientBoostingClassifier(random_state = 123)\n",
    "X = data4.drop(\"labels\", axis = 1)\n",
    "y = data4['labels']\n",
    "X_train_hash, X_test_hash, y_train_hash, y_test_hash = train_test_split(\n",
    "        X, y, test_size=0.2, random_state=123)\n",
    "ra_hashed = cross_val_score(clf, X_train_hash, y_train_hash, cv=5, scoring='roc_auc')\n",
    "print 'ROC AUC for hashed categorical features is', np.mean(ra_hashed)\n",
    "print 'ROC AUC for frequency coding of categorical features is', best_roc_auc"
   ]
  },
  {
   "cell_type": "markdown",
   "metadata": {},
   "source": [
    "### Feature selection"
   ]
  },
  {
   "cell_type": "markdown",
   "metadata": {},
   "source": [
    "Some features are already excluded from data analysis (fatures that contain more than 70% of missed values). It allows to speed up fit and predict methods while keeping performance on the same level as with these features. The question is if further feature selection can improve model quality. We tried several strategies for feature selection:\n",
    "- VarianceThreshold (selects features with variance above certain threshold)\n",
    "- Lasso regression (selects fetures with non-null coefficient in fitted regression with l1 regularization)\n",
    "- SVM\n",
    "- Extremely Randomized Trees"
   ]
  },
  {
   "cell_type": "markdown",
   "metadata": {
    "collapsed": true
   },
   "source": [
    "##### Feature selection using VarianceThreshold:"
   ]
  },
  {
   "cell_type": "code",
   "execution_count": 172,
   "metadata": {
    "collapsed": false
   },
   "outputs": [
    {
     "name": "stdout",
     "output_type": "stream",
     "text": [
      "roc auc for 64 selected features via VarianceThreshold of 500 is 0.741355\n",
      "roc auc for 62 selected features via VarianceThreshold of 750 is 0.741716\n",
      "roc auc for 62 selected features via VarianceThreshold of 1000 is 0.741716\n",
      "roc auc for 62 selected features via VarianceThreshold of 1250 is 0.741716\n",
      "roc auc for 60 selected features via VarianceThreshold of 1500 is 0.694973\n"
     ]
    }
   ],
   "source": [
    "from sklearn.feature_selection import VarianceThreshold\n",
    "X = data.drop('labels', axis = 1)\n",
    "y = data['labels']\n",
    "X_train, X_test, y_train, y_test = train_test_split(\n",
    "        X, y, test_size=0.2, random_state=123)\n",
    "\n",
    "#roc_auc without variance selection is 0.742197\n",
    "thresholds = [250., 500., 1000., 1500.]\n",
    "for thr in thresholds:\n",
    "    selector = VarianceThreshold(thr)\n",
    "    X_sel = selector.fit_transform(X_train)\n",
    "    roc_auc = cross_val_score(clf, X_sel, y_train, cv=5, scoring='roc_auc')\n",
    "    print 'ROC AUC without variance selection is', best_roc_auc\n",
    "    print 'ROC AUC for %d selected features via VarianceThreshold of %d is %f'% (X_sel.shape[1], thr, np.mean(roc_auc))"
   ]
  },
  {
   "cell_type": "markdown",
   "metadata": {},
   "source": [
    "Feature selection for threshold of 500 and 1000 does not improve the metric. For threshold of 1500 ROC AUC deteriorates, which means that some meaningful features are ignored."
   ]
  },
  {
   "cell_type": "markdown",
   "metadata": {},
   "source": [
    "##### Feature selection using Lasso regression: "
   ]
  },
  {
   "cell_type": "code",
   "execution_count": 283,
   "metadata": {
    "collapsed": false
   },
   "outputs": [
    {
     "name": "stdout",
     "output_type": "stream",
     "text": [
      "ROC AUC without variance selection is 0.742197\n",
      "ROC AUC for 67 selected features via Lasso regression is 0.743655\n",
      "ROC AUC for 66 selected features via Lasso regression is 0.743151\n",
      "ROC AUC for 63 selected features via Lasso regression is 0.743160\n",
      "ROC AUC for 60 selected features via Lasso regression is 0.743474\n"
     ]
    }
   ],
   "source": [
    "alphas = [ 0.0025, 0.005, 0.01, 0.015]\n",
    "threshold = 1e-10\n",
    "print 'ROC AUC without variance selection is', best_roc_auc\n",
    "for a in alphas:\n",
    "    reg = Lasso(alpha = a)\n",
    "    reg = reg.fit(X_train_scaled, y_train_scaled)\n",
    "    coefs = pd.DataFrame(reg.coef_, columns = ['coef'])\n",
    "    coefs['variable'] = X_train_scaled.columns\n",
    "    selected_features = list(coefs[abs(coefs['coef']) > threshold].variable)\n",
    "    X_sel = X_train[selected_features]\n",
    "    roc_auc = cross_val_score(clf, X_sel, y_train, cv=5, scoring='roc_auc')\n",
    "    print 'ROC AUC for %d selected features via Lasso regression is %f'% (X_sel.shape[1], np.mean(roc_auc))"
   ]
  },
  {
   "cell_type": "markdown",
   "metadata": {},
   "source": [
    "Feature selection using Lasso with alpha = 0.0025 slightly improves quality of the model, so we will use only selected features for the final model."
   ]
  },
  {
   "cell_type": "code",
   "execution_count": 285,
   "metadata": {
    "collapsed": true
   },
   "outputs": [],
   "source": [
    "reg = Lasso(alpha = 0.0025)\n",
    "reg = reg.fit(X_train_scaled, y_train_scaled)\n",
    "coefs = pd.DataFrame(reg.coef_, columns = ['coef'])\n",
    "coefs['variable'] = X_train_scaled.columns\n",
    "selected_features = list(coefs[abs(coefs['coef']) > threshold].variable)\n",
    "X_train_sel = X_train[selected_features]\n",
    "X_test_sel = X_test[selected_features]"
   ]
  },
  {
   "cell_type": "markdown",
   "metadata": {},
   "source": [
    "##### Feature selection using SVM and Extremely Randomized Trees:"
   ]
  },
  {
   "cell_type": "code",
   "execution_count": 227,
   "metadata": {
    "collapsed": false
   },
   "outputs": [
    {
     "name": "stdout",
     "output_type": "stream",
     "text": [
      "ROC AUC without variance selection is 0.742197\n",
      "ROC AUC with LinearSVC feature selection 0.73787893127\n",
      "ROC AUC with ExtraTreesClassifier feature selection 0.742957671248\n"
     ]
    }
   ],
   "source": [
    "from sklearn.svm import LinearSVC\n",
    "from sklearn.ensemble import ExtraTreesClassifier\n",
    "from sklearn.feature_selection import SelectFromModel\n",
    "\n",
    "print 'ROC AUC without variance selection is', roc_auc_best\n",
    "\n",
    "lsvc = LinearSVC(C = 0.25, penalty = \"l1\", dual=False).fit(X_train, y_train)\n",
    "model = SelectFromModel(lsvc, prefit=True)\n",
    "X_new = model.transform(X_train)\n",
    "values = cross_val_score(clf, X_new, y_train, cv = 5, scoring = 'roc_auc')\n",
    "print \"ROC AUC with LinearSVC feature selection is\", values.mean()\n",
    "\n",
    "\n",
    "etclf = ExtraTreesClassifier()\n",
    "etclf = etclf.fit(X_train, y_train)\n",
    "model = SelectFromModel(etclf, prefit=True)\n",
    "X_new = model.transform(X_train)\n",
    "values = cross_val_score(clf, X_new, y_train, cv = 5, scoring = 'roc_auc')\n",
    "print \"ROC AUC with ExtraTreesClassifier feature selection is\", values.mean()"
   ]
  },
  {
   "cell_type": "markdown",
   "metadata": {},
   "source": [
    "Feature selection using SVM or Extremely Randomized Trees does not improve quality of the model."
   ]
  },
  {
   "cell_type": "markdown",
   "metadata": {},
   "source": [
    "### Model parameters and GridSearch"
   ]
  },
  {
   "cell_type": "markdown",
   "metadata": {},
   "source": [
    "Baseline model is Gradient Boosting. We will use the sklearn realization of Gradient Boosting Clasifier algorithm with optimal preprocessing:\n",
    "- no weighting\n",
    "- coding categorical features with frequencies\n",
    "- filling missing values in categorical features with zeros\n",
    "- filling missing values in numerical features with max + 1\n",
    "- removal of empty and almost emrty features (>70% of missing values).\n",
    "\n",
    "Parameters of Gradient Boosting model will be optimized via GridSearch using 5-fold cross validation. "
   ]
  },
  {
   "cell_type": "code",
   "execution_count": 219,
   "metadata": {
    "collapsed": false
   },
   "outputs": [
    {
     "name": "stdout",
     "output_type": "stream",
     "text": [
      "0.745247501522\n",
      "{'n_estimators': 450, 'learning_rate': 0.03, 'max_depth': 3}\n"
     ]
    }
   ],
   "source": [
    "params = {'n_estimators' : [100, 200, 300, 400, 450, 500],\n",
    "    'max_depth' : [3, 4], \n",
    "    'learning_rate' : [0.1, 0.03]\n",
    "         }\n",
    "gs3 = GridSearchCV(clf, params, cv = 5, scoring = 'roc_auc')\n",
    "gs3.fit(X_train, y_train)\n",
    "print 'best AUC ROC is', gs3.best_score_\n",
    "print 'best parameters are', gs3.best_params_"
   ]
  },
  {
   "cell_type": "code",
   "execution_count": 278,
   "metadata": {
    "collapsed": false
   },
   "outputs": [],
   "source": [
    "#results = pd.DataFrame(gs3.cv_results_)\n",
    "#results"
   ]
  },
  {
   "cell_type": "markdown",
   "metadata": {},
   "source": [
    "Model with max depth of 3 and learning rate of 0.03 is in a (local) optimum at 450 estimators, since its performance is lower at 400 and 500 estimators.  "
   ]
  },
  {
   "cell_type": "markdown",
   "metadata": {},
   "source": [
    "##### Compared to the baseline model AUC ROC on 5-fold cross validation is increased by 2.4% (from 0.7277 to 0.7452)."
   ]
  },
  {
   "cell_type": "markdown",
   "metadata": {},
   "source": [
    "## Final model"
   ]
  },
  {
   "cell_type": "markdown",
   "metadata": {},
   "source": [
    "We will use the sklearn realization of Gradient Boosting Clasifier algorithm with optimal preprocessing:\n",
    "- no weighting\n",
    "- coding categorical features with frequencies\n",
    "- filling missing values in categorical features with zeros\n",
    "- filling missing values in numerical features with max + 1\n",
    "- removal of empty and almost emrty features (>70% of missing values)\n",
    "- feature selection using Lasso regeresiion with regularization coefficient of 0.0025.\n",
    "\n",
    "and following parameters optimized via GridSearch:\n",
    "\n",
    "- learning_rate=0.03\n",
    "- loss='deviance'\n",
    "- max_depth=3\n",
    "- n_estimators=450\n",
    "- random_state=123.\n"
   ]
  },
  {
   "cell_type": "code",
   "execution_count": 289,
   "metadata": {
    "collapsed": false
   },
   "outputs": [
    {
     "name": "stdout",
     "output_type": "stream",
     "text": [
      "AUC ROC on the hold-out data set is 0.739029271693\n"
     ]
    }
   ],
   "source": [
    "clf = GradientBoostingClassifier(n_estimators = 450, learning_rate = 0.03, max_depth = 3, random_state = 123)\n",
    "clf.fit(X_train_sel, y_train)\n",
    "y_pred = clf.predict_proba(X_test_sel) \n",
    "y_prob = [x[1] for x in y_pred]\n",
    "roc_auc_ho = roc_auc_score(y_test, y_prob)\n",
    "print 'AUC ROC on the hold-out data set is', roc_auc_ho"
   ]
  },
  {
   "cell_type": "markdown",
   "metadata": {},
   "source": [
    "Score on the hold-out data set is close to the score on the train set (0.745), which is an evidence that the model is adequate and is not overfitted."
   ]
  }
 ],
 "metadata": {
  "kernelspec": {
   "display_name": "Python 2",
   "language": "python",
   "name": "python2"
  },
  "language_info": {
   "codemirror_mode": {
    "name": "ipython",
    "version": 2
   },
   "file_extension": ".py",
   "mimetype": "text/x-python",
   "name": "python",
   "nbconvert_exporter": "python",
   "pygments_lexer": "ipython2",
   "version": "2.7.13"
  }
 },
 "nbformat": 4,
 "nbformat_minor": 1
}
