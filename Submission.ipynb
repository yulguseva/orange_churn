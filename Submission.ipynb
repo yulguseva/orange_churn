{
 "cells": [
  {
   "cell_type": "markdown",
   "metadata": {},
   "source": [
    "# Gradient Boosting model results"
   ]
  },
  {
   "cell_type": "markdown",
   "metadata": {},
   "source": [
    "### Data Preprocessing"
   ]
  },
  {
   "cell_type": "code",
   "execution_count": 36,
   "metadata": {
    "collapsed": false
   },
   "outputs": [],
   "source": [
    "import pandas as pd\n",
    "import numpy as np\n",
    "\n",
    "from sklearn.model_selection import StratifiedKFold, learning_curve, cross_val_score\n",
    "from sklearn.ensemble import GradientBoostingClassifier\n",
    "from sklearn.metrics import precision_score, recall_score, roc_auc_score, fbeta_score"
   ]
  },
  {
   "cell_type": "code",
   "execution_count": 20,
   "metadata": {
    "collapsed": false
   },
   "outputs": [
    {
     "name": "stdout",
     "output_type": "stream",
     "text": [
      "(40000, 231) (10000, 230)\n"
     ]
    }
   ],
   "source": [
    "data = pd.read_csv(\"orange_small_churn_train_data.csv\")\n",
    "data_test = pd.read_csv(\"orange_small_churn_test_data.csv\")\n",
    "data.drop(\"ID\", axis = 1, inplace = True)\n",
    "data_test.drop(\"ID\", axis = 1, inplace = True)\n",
    "print data.shape, data_test.shape"
   ]
  },
  {
   "cell_type": "code",
   "execution_count": 21,
   "metadata": {
    "collapsed": false
   },
   "outputs": [],
   "source": [
    "num_features = list(data.columns[:190])\n",
    "cat_features = list(data.columns[190:230])"
   ]
  },
  {
   "cell_type": "markdown",
   "metadata": {},
   "source": [
    "Delete features with >70% of missing values."
   ]
  },
  {
   "cell_type": "code",
   "execution_count": 5,
   "metadata": {
    "collapsed": false
   },
   "outputs": [
    {
     "name": "stdout",
     "output_type": "stream",
     "text": [
      "number of empty features is 156\n"
     ]
    }
   ],
   "source": [
    "empty_features = []\n",
    "c = 0.3\n",
    "for feat in data.columns:\n",
    "    nulls = data[feat].isnull().value_counts()\n",
    "    try:\n",
    "        not_nulls = nulls[False]\n",
    "        if not_nulls < c*40000:\n",
    "            empty_features.append(feat)\n",
    "    except:    \n",
    "        empty_features.append(feat)\n",
    "print \"number of empty features is\", len(empty_features)"
   ]
  },
  {
   "cell_type": "code",
   "execution_count": 22,
   "metadata": {
    "collapsed": false
   },
   "outputs": [],
   "source": [
    "for feat in empty_features:\n",
    "    #data.drop(feat, axis = 1, inplace = True)    \n",
    "    if feat in num_features:\n",
    "        num_features.remove(feat)\n",
    "    else:\n",
    "        cat_features.remove(feat)\n",
    "    data.drop(feat,axis=1, inplace=True)\n",
    "    data_test.drop(feat,axis=1, inplace=True)"
   ]
  },
  {
   "cell_type": "code",
   "execution_count": 23,
   "metadata": {
    "collapsed": false
   },
   "outputs": [
    {
     "name": "stdout",
     "output_type": "stream",
     "text": [
      "(40000, 75) (10000, 74)\n"
     ]
    }
   ],
   "source": [
    "print data.shape, data_test.shape"
   ]
  },
  {
   "cell_type": "markdown",
   "metadata": {},
   "source": [
    "Numeric features: replace missing values with (max value + 1)."
   ]
  },
  {
   "cell_type": "code",
   "execution_count": 24,
   "metadata": {
    "collapsed": true
   },
   "outputs": [],
   "source": [
    "maxs = data.max(axis = 0)\n",
    "for i,feat in enumerate(num_features):\n",
    "    fill_value = maxs[i] + 1.\n",
    "    data.fillna({feat: fill_value}, inplace=True)\n",
    "    data_test.fillna({feat: fill_value}, inplace=True)"
   ]
  },
  {
   "cell_type": "markdown",
   "metadata": {},
   "source": [
    "Categorial features: replace values with their frequencies. "
   ]
  },
  {
   "cell_type": "code",
   "execution_count": 31,
   "metadata": {
    "collapsed": true
   },
   "outputs": [],
   "source": [
    "data_cat_all = data[cat_features].append(data_test[cat_features])\n",
    "\n",
    "for feat in data_cat_all.columns:\n",
    "    data_cat_all[feat] = data_cat_all[feat].map(data_cat_all.groupby(feat).size())\n",
    "    \n",
    "data[cat_features] = data_cat_all.loc[:39999,:]\n",
    "data_test[cat_features] = data_cat_all.loc[39999:,:]"
   ]
  },
  {
   "cell_type": "markdown",
   "metadata": {},
   "source": [
    "Categorial features: replace missing values with zeros."
   ]
  },
  {
   "cell_type": "code",
   "execution_count": 32,
   "metadata": {
    "collapsed": true
   },
   "outputs": [],
   "source": [
    "data.fillna(0., inplace=True)\n",
    "data_test.fillna(0., inplace=True)"
   ]
  },
  {
   "cell_type": "code",
   "execution_count": 33,
   "metadata": {
    "collapsed": false
   },
   "outputs": [
    {
     "name": "stdout",
     "output_type": "stream",
     "text": [
      "(40000, 75)\n",
      "(10000, 74)\n"
     ]
    },
    {
     "data": {
      "text/html": [
       "<div>\n",
       "<style>\n",
       "    .dataframe thead tr:only-child th {\n",
       "        text-align: right;\n",
       "    }\n",
       "\n",
       "    .dataframe thead th {\n",
       "        text-align: left;\n",
       "    }\n",
       "\n",
       "    .dataframe tbody tr th {\n",
       "        vertical-align: top;\n",
       "    }\n",
       "</style>\n",
       "<table border=\"1\" class=\"dataframe\">\n",
       "  <thead>\n",
       "    <tr style=\"text-align: right;\">\n",
       "      <th></th>\n",
       "      <th>Var6</th>\n",
       "      <th>Var7</th>\n",
       "      <th>Var13</th>\n",
       "      <th>Var21</th>\n",
       "      <th>Var22</th>\n",
       "      <th>Var24</th>\n",
       "      <th>Var25</th>\n",
       "      <th>Var28</th>\n",
       "      <th>Var35</th>\n",
       "      <th>Var38</th>\n",
       "      <th>...</th>\n",
       "      <th>Var220</th>\n",
       "      <th>Var221</th>\n",
       "      <th>Var222</th>\n",
       "      <th>Var223</th>\n",
       "      <th>Var225</th>\n",
       "      <th>Var226</th>\n",
       "      <th>Var227</th>\n",
       "      <th>Var228</th>\n",
       "      <th>Var229</th>\n",
       "      <th>labels</th>\n",
       "    </tr>\n",
       "  </thead>\n",
       "  <tbody>\n",
       "    <tr>\n",
       "      <th>0</th>\n",
       "      <td>3052.0</td>\n",
       "      <td>36.0</td>\n",
       "      <td>97365.0</td>\n",
       "      <td>480.0</td>\n",
       "      <td>600.0</td>\n",
       "      <td>20.0</td>\n",
       "      <td>480.0</td>\n",
       "      <td>200.00</td>\n",
       "      <td>0.0</td>\n",
       "      <td>82752.0</td>\n",
       "      <td>...</td>\n",
       "      <td>3</td>\n",
       "      <td>1662</td>\n",
       "      <td>3</td>\n",
       "      <td>36608.0</td>\n",
       "      <td>0.0</td>\n",
       "      <td>2614</td>\n",
       "      <td>2342</td>\n",
       "      <td>1477</td>\n",
       "      <td>0.0</td>\n",
       "      <td>-1</td>\n",
       "    </tr>\n",
       "    <tr>\n",
       "      <th>1</th>\n",
       "      <td>1813.0</td>\n",
       "      <td>7.0</td>\n",
       "      <td>636.0</td>\n",
       "      <td>212.0</td>\n",
       "      <td>265.0</td>\n",
       "      <td>2.0</td>\n",
       "      <td>128.0</td>\n",
       "      <td>166.56</td>\n",
       "      <td>0.0</td>\n",
       "      <td>2706120.0</td>\n",
       "      <td>...</td>\n",
       "      <td>1</td>\n",
       "      <td>37009</td>\n",
       "      <td>1</td>\n",
       "      <td>36608.0</td>\n",
       "      <td>11072.0</td>\n",
       "      <td>2108</td>\n",
       "      <td>35156</td>\n",
       "      <td>4354</td>\n",
       "      <td>9804.0</td>\n",
       "      <td>-1</td>\n",
       "    </tr>\n",
       "    <tr>\n",
       "      <th>2</th>\n",
       "      <td>1953.0</td>\n",
       "      <td>7.0</td>\n",
       "      <td>448.0</td>\n",
       "      <td>176.0</td>\n",
       "      <td>220.0</td>\n",
       "      <td>0.0</td>\n",
       "      <td>72.0</td>\n",
       "      <td>311.76</td>\n",
       "      <td>0.0</td>\n",
       "      <td>4698780.0</td>\n",
       "      <td>...</td>\n",
       "      <td>4441</td>\n",
       "      <td>6199</td>\n",
       "      <td>4441</td>\n",
       "      <td>36608.0</td>\n",
       "      <td>0.0</td>\n",
       "      <td>8031</td>\n",
       "      <td>6153</td>\n",
       "      <td>2672</td>\n",
       "      <td>9804.0</td>\n",
       "      <td>-1</td>\n",
       "    </tr>\n",
       "    <tr>\n",
       "      <th>3</th>\n",
       "      <td>1533.0</td>\n",
       "      <td>7.0</td>\n",
       "      <td>4.0</td>\n",
       "      <td>332.0</td>\n",
       "      <td>415.0</td>\n",
       "      <td>0.0</td>\n",
       "      <td>144.0</td>\n",
       "      <td>220.08</td>\n",
       "      <td>5.0</td>\n",
       "      <td>864384.0</td>\n",
       "      <td>...</td>\n",
       "      <td>34</td>\n",
       "      <td>37009</td>\n",
       "      <td>34</td>\n",
       "      <td>36608.0</td>\n",
       "      <td>0.0</td>\n",
       "      <td>2108</td>\n",
       "      <td>35156</td>\n",
       "      <td>32703</td>\n",
       "      <td>0.0</td>\n",
       "      <td>1</td>\n",
       "    </tr>\n",
       "    <tr>\n",
       "      <th>4</th>\n",
       "      <td>686.0</td>\n",
       "      <td>7.0</td>\n",
       "      <td>0.0</td>\n",
       "      <td>160.0</td>\n",
       "      <td>200.0</td>\n",
       "      <td>2.0</td>\n",
       "      <td>48.0</td>\n",
       "      <td>278.00</td>\n",
       "      <td>0.0</td>\n",
       "      <td>4364880.0</td>\n",
       "      <td>...</td>\n",
       "      <td>2</td>\n",
       "      <td>37009</td>\n",
       "      <td>2</td>\n",
       "      <td>36608.0</td>\n",
       "      <td>0.0</td>\n",
       "      <td>4176</td>\n",
       "      <td>35156</td>\n",
       "      <td>32703</td>\n",
       "      <td>0.0</td>\n",
       "      <td>-1</td>\n",
       "    </tr>\n",
       "  </tbody>\n",
       "</table>\n",
       "<p>5 rows × 75 columns</p>\n",
       "</div>"
      ],
      "text/plain": [
       "     Var6  Var7    Var13  Var21  Var22  Var24  Var25   Var28  Var35  \\\n",
       "0  3052.0  36.0  97365.0  480.0  600.0   20.0  480.0  200.00    0.0   \n",
       "1  1813.0   7.0    636.0  212.0  265.0    2.0  128.0  166.56    0.0   \n",
       "2  1953.0   7.0    448.0  176.0  220.0    0.0   72.0  311.76    0.0   \n",
       "3  1533.0   7.0      4.0  332.0  415.0    0.0  144.0  220.08    5.0   \n",
       "4   686.0   7.0      0.0  160.0  200.0    2.0   48.0  278.00    0.0   \n",
       "\n",
       "       Var38   ...    Var220  Var221  Var222   Var223   Var225  Var226  \\\n",
       "0    82752.0   ...         3    1662       3  36608.0      0.0    2614   \n",
       "1  2706120.0   ...         1   37009       1  36608.0  11072.0    2108   \n",
       "2  4698780.0   ...      4441    6199    4441  36608.0      0.0    8031   \n",
       "3   864384.0   ...        34   37009      34  36608.0      0.0    2108   \n",
       "4  4364880.0   ...         2   37009       2  36608.0      0.0    4176   \n",
       "\n",
       "   Var227  Var228  Var229  labels  \n",
       "0    2342    1477     0.0      -1  \n",
       "1   35156    4354  9804.0      -1  \n",
       "2    6153    2672  9804.0      -1  \n",
       "3   35156   32703     0.0       1  \n",
       "4   35156   32703     0.0      -1  \n",
       "\n",
       "[5 rows x 75 columns]"
      ]
     },
     "execution_count": 33,
     "metadata": {},
     "output_type": "execute_result"
    }
   ],
   "source": [
    "print data.shape\n",
    "print data_test.shape\n",
    "data.head()"
   ]
  },
  {
   "cell_type": "markdown",
   "metadata": {},
   "source": [
    "## Model fitting"
   ]
  },
  {
   "cell_type": "markdown",
   "metadata": {},
   "source": [
    "### Model k-fold validation "
   ]
  },
  {
   "cell_type": "code",
   "execution_count": 34,
   "metadata": {
    "collapsed": true
   },
   "outputs": [],
   "source": [
    "n_train = 36000\n",
    "data_train = data[:n_train]"
   ]
  },
  {
   "cell_type": "code",
   "execution_count": 37,
   "metadata": {
    "collapsed": false
   },
   "outputs": [
    {
     "name": "stdout",
     "output_type": "stream",
     "text": [
      "Total Results: GradientBoostingClassifier\n",
      "   roc_auc_score: 0.743719292307\n",
      "   precision:     0.565217864491\n",
      "   recall:        0.0250840961448\n",
      "   f-measure:     0.0310032309825\n",
      "============================================\n"
     ]
    }
   ],
   "source": [
    "### 0.7380537\n",
    "#0.745862803746 39000\n",
    "verbose = False\n",
    "\n",
    "classifiers = [ GradientBoostingClassifier(n_estimators = 100, max_depth = 3, learning_rate = 0.1,\n",
    "                                           random_state = 123)]\n",
    "\n",
    "X = data_train.drop(labels='labels', axis=1)\n",
    "y = data_train['labels']\n",
    "#X = data_scaled[:n_train]\n",
    "\n",
    "\n",
    "skf = StratifiedKFold(n_splits=5, shuffle=True)\n",
    "\n",
    "for cls in classifiers:\n",
    "    m1 = []\n",
    "    m2 = []\n",
    "    m3 = []\n",
    "    m4 = []\n",
    "    n = 0\n",
    "    \n",
    "    for train_index, test_index in skf.split(X, y):    \n",
    "        X_train, X_test = X.iloc[train_index], X.iloc[test_index]\n",
    "        y_train, y_test = y[train_index], y[test_index]    \n",
    "\n",
    "        cls.fit(X_train, y_train)\n",
    "        y_pred = cls.predict(X_test)\n",
    "        y_pred_proba = cls.predict_proba(X_test)[:, 1]\n",
    "        m1.append( roc_auc_score(y_test, y_pred_proba) )\n",
    "        m2.append( precision_score(y_test, y_pred) )\n",
    "        m3.append( recall_score(y_test, y_pred) )\n",
    "        m4.append( fbeta_score(y_test, y_pred, 2.0) )\n",
    "        if verbose==True:\n",
    "            print \"Fold\", n+1, \":\", m1[n], m2[n], m3[n], m4[n]\n",
    "            n+=1\n",
    "    print \"Total Results:\", cls.__class__.__name__\n",
    "    print \"   roc_auc_score:\", np.mean(m1)\n",
    "    print \"   precision:    \", np.mean(m2)\n",
    "    print \"   recall:       \", np.mean(m3)\n",
    "    print \"   f-measure:    \", np.mean(m4)\n",
    "    print \"============================================\""
   ]
  },
  {
   "cell_type": "markdown",
   "metadata": {},
   "source": [
    "### Model fitting and submission"
   ]
  },
  {
   "cell_type": "markdown",
   "metadata": {},
   "source": [
    "Model fitting and validation on test set (10% of samples):"
   ]
  },
  {
   "cell_type": "code",
   "execution_count": 38,
   "metadata": {
    "collapsed": false
   },
   "outputs": [
    {
     "name": "stdout",
     "output_type": "stream",
     "text": [
      "Total Results: GradientBoostingClassifier\n",
      "   roc_auc_score: 0.739776211765\n",
      "   precision:     0.461538461538\n",
      "   recall:        0.022641509434\n",
      "   f-measure:     0.0279589934762\n",
      "============================================\n"
     ]
    }
   ],
   "source": [
    "#0.743109072161 - original\n",
    "#0.744072003283 - mins\n",
    "#0.747640089559 - gs params 400\n",
    "cls = GradientBoostingClassifier(n_estimators = 100, max_depth = 3, learning_rate = 0.1, \n",
    "                                 random_state = 123)\n",
    "\n",
    "X = data_train.drop(labels='labels', axis=1)\n",
    "y = data_train['labels']\n",
    "\n",
    "cls.fit(X, y)\n",
    "\n",
    "X = data[n_train:].drop(labels='labels', axis=1)\n",
    "y_pred = cls.predict(X)\n",
    "y_pred_proba = cls.predict_proba(X)[:, 1]\n",
    "y_true = data[n_train:]['labels']\n",
    "\n",
    "print \"Total Results:\", cls.__class__.__name__\n",
    "print \"   roc_auc_score:\",roc_auc_score(np.array(y_true), y_pred_proba)\n",
    "print \"   precision:    \",precision_score(np.array(y_true), y_pred)\n",
    "print \"   recall:       \",recall_score(np.array(y_true), y_pred)\n",
    "print \"   f-measure:    \",fbeta_score(np.array(y_true), y_pred, 2.0)\n",
    "print \"============================================\""
   ]
  },
  {
   "cell_type": "markdown",
   "metadata": {},
   "source": [
    "Model prediction on competition set and submitting: "
   ]
  },
  {
   "cell_type": "code",
   "execution_count": 40,
   "metadata": {
    "collapsed": true
   },
   "outputs": [],
   "source": [
    "X = data_test\n",
    "y_pred_test = cls.predict(X)\n",
    "y_pred_test_proba = cls.predict_proba(X)[:, 1]"
   ]
  },
  {
   "cell_type": "code",
   "execution_count": 41,
   "metadata": {
    "collapsed": false
   },
   "outputs": [
    {
     "name": "stdout",
     "output_type": "stream",
     "text": [
      "(10000,)\n"
     ]
    }
   ],
   "source": [
    "print y_pred_test_proba.shape\n",
    "sub = pd.DataFrame()\n",
    "sub['ID'] = range(10000)\n",
    "sub['result'] = y_pred_test_proba\n",
    "sub.to_csv('resultnew.csv', index=False)"
   ]
  }
 ],
 "metadata": {
  "kernelspec": {
   "display_name": "Python 2",
   "language": "python",
   "name": "python2"
  },
  "language_info": {
   "codemirror_mode": {
    "name": "ipython",
    "version": 2
   },
   "file_extension": ".py",
   "mimetype": "text/x-python",
   "name": "python",
   "nbconvert_exporter": "python",
   "pygments_lexer": "ipython2",
   "version": "2.7.13"
  }
 },
 "nbformat": 4,
 "nbformat_minor": 1
}
